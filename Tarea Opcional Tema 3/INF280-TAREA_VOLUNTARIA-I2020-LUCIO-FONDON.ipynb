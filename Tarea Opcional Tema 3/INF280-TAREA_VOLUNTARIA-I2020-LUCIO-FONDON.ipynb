{
 "cells": [
  {
   "cell_type": "markdown",
   "metadata": {},
   "source": [
    "<img src=\"http://www.exalumnos.usm.cl/wp-content/uploads/2015/06/Isotipo-Negro.gif\" title=\"Title text\" width=\"20%\" height=\"20%\" />\n",
    "\n",
    "\n",
    "<hr style=\"height:2px;border:none\"/>\n",
    "<h1 align='center'> INF-280 Estadística Computacional I-2020 </h1>\n",
    "\n",
    "<H3 align='center'> Tarea Voluntaria Tema 3 - Juego de la morra  </H3>\n",
    "<H3 align='center'> Nombre: Lucio Fondón Rebolledo </H3>\n",
    "<H3 align='center'> Rol: 201773610-0 </H3>\n",
    "<H3 align='center'> Paralelo: 201 </H3>\n"
   ]
  },
  {
   "cell_type": "markdown",
   "metadata": {},
   "source": [
    "• Escriba un programita que simule la morra para 2 dedos y para los 10 dedos de la\n",
    "mano.\n",
    "\n",
    "• Al ejecutar el programita (o la celda) debe mostrarse la f.d.p. (gr´aficamente) y su valor\n",
    "esperado.\n",
    "\n",
    "• Prepare un video en que explique su desarrollo y resultado.\n",
    "\n",
    "Detalles:\n",
    "La simulación debiese repetir n veces 1 iteración del juego de la morra.\n",
    "En cada repetición cada uno de los jugadores, independientemente, seleccionará aleatoriamente cuántos dedos extender y elegirá aleatoriamente cuántos dedos decir que alzá su oponente (apuesta). Luego determinaremos si ambos acertaron a la apuesta, ambos fracasaron, o el primer jugador ganó puntos. Guardaremos esos puntos en un arreglo.\n",
    "\n",
    "Después de repetir esto n veces, podremos contar cuántas veces el primer jugador obtuvo 0\n",
    "puntos, cuántas 2 puntos, cuántas 3 puntos, etc. Con eso podemos estimar la f.d.p de X y\n",
    "su valor esperado.\n",
    "\n",
    "Si n → ∞ debiésemos ver la f.d.p real y su valor esperado cada vez con mayor claridad."
   ]
  },
  {
   "cell_type": "markdown",
   "metadata": {},
   "source": [
    "<H3> Para 2 dedos:</H3>\n",
    "\n",
    "Primero sacamos el recorrido de la variable aleatoria X, que sería la cantidad de puntos que obtendría alguno de los dos jugadores, siendo éste:\n",
    "\\begin{align*}\n",
    "\\\\\n",
    "R_x=\\{0,2,3,4\\}\n",
    "\\end{align*}\n",
    "\n",
    "Luego, procedemos a contar la cantidad de veces que (aleatoriamente) salga cada valor del recorrido, repitiendo el experimento de jugar 1 ronda muchas veces (n = 100000), para así poder generar el gráfico aproximado de la función de probabilidad asociada al experimento. \n",
    "\n"
   ]
  },
  {
   "cell_type": "code",
   "execution_count": 9,
   "metadata": {
    "scrolled": true
   },
   "outputs": [
    {
     "name": "stdout",
     "output_type": "stream",
     "text": [
      "[0.75072, 0.06168, 0.1259, 0.0617]\n"
     ]
    },
    {
     "data": {
      "image/png": "[encoded data removed]",
      "text/plain": [
       "<Figure size 576x576 with 1 Axes>"
      ]
     },
     "metadata": {
      "needs_background": "light"
     },
     "output_type": "display_data"
    },
    {
     "name": "stdout",
     "output_type": "stream",
     "text": [
      "Valor esperado: 0.7478600000000001\n"
     ]
    }
   ],
   "source": [
    "import matplotlib.pyplot as plt\n",
    "import numpy as np\n",
    "\n",
    "N_repeticiones = 100000\n",
    "\n",
    "recorrido_X = [0,2,3,4]\n",
    "\n",
    "dedos_j1 = [1,2]\n",
    "dedos_j2= [1,2]\n",
    "\n",
    "contadores = dict()\n",
    "for resultado_X in list(recorrido_X):\n",
    "  contadores[int(resultado_X)] = 0\n",
    "\n",
    "for lanzamiento in range(N_repeticiones):\n",
    "  eleccion_j1 = np.random.choice(dedos_j1, size=1)[0]\n",
    "  eleccion_j2 = np.random.choice(dedos_j2, size=1)[0]  \n",
    "\n",
    "  resultado_j_1 = np.random.choice(dedos_j1, size=1)[0]\n",
    "  resultado_j_2 = np.random.choice(dedos_j2, size=1)[0]\n",
    "\n",
    "  \n",
    "  #Preguntamos si J1 acertó y J2 no hizo, para ver si suma puntos o no\n",
    "  if (resultado_j_1 != eleccion_j2) and (eleccion_j1 == resultado_j_2):\n",
    "    resultado_X = resultado_j_1 + resultado_j_2 #si entra, el resultado es la suma de los dedos escogidos por cada jugador\n",
    "  else:\n",
    "    resultado_X = 0 #sino no suma puntos\n",
    "  \n",
    "  contadores[resultado_X]+=1\n",
    "\n",
    "    \n",
    "fdp_X = [contadores[resultado_X]/float(N_repeticiones) for resultado_X in list(recorrido_X)]\n",
    "\n",
    "print(fdp_X)\n",
    "\n",
    "fig, ax = plt.subplots(figsize=(8,8))\n",
    "plt.bar(recorrido_X,fdp_X,color = \"b\",width = 0.50)\n",
    "ax.set_xlabel(\"Recorrido X\")\n",
    "ax.set_ylabel(\"Probabilidades\")\n",
    "plt.title(\"Función de Probabilidad Experimental de X\")\n",
    "plt.show()\n",
    "\n",
    "valor_esperado = 0.0\n",
    "for valor, probabilidad in zip(recorrido_X, fdp_X):\n",
    "  valor_esperado += valor*probabilidad\n",
    "\n",
    "print(\"Valor esperado: \"+ str(valor_esperado))\n"
   ]
  },
  {
   "cell_type": "markdown",
   "metadata": {},
   "source": [
    "<H3> Para 5 dedos:</H3>\n",
    "\n",
    "El recorrido de la variable aleatoria X para cuando se usan los 10 dedos de la mano es:\n",
    "\\begin{align*}\n",
    "\\\\\n",
    "R_x=\\{0,2,3,4,5,6,7,8,9,10,11,12,13,14,15,16,17,18,19,20\\}\n",
    "\\end{align*}\n",
    "\n",
    "Y procedemos análogamente al caso de 2 dedos:\n"
   ]
  },
  {
   "cell_type": "code",
   "execution_count": 10,
   "metadata": {},
   "outputs": [
    {
     "name": "stdout",
     "output_type": "stream",
     "text": [
      "[0.91162, 0.00094, 0.00183, 0.00281, 0.0033, 0.00417, 0.00531, 0.00614, 0.00707, 0.00794, 0.00854, 0.00775, 0.0069, 0.00655, 0.00586, 0.00442, 0.00373, 0.00259, 0.00168, 0.00085]\n"
     ]
    },
    {
     "data": {
      "image/png": "[encoded data removed]",
      "text/plain": [
       "<Figure size 864x864 with 1 Axes>"
      ]
     },
     "metadata": {
      "needs_background": "light"
     },
     "output_type": "display_data"
    },
    {
     "name": "stdout",
     "output_type": "stream",
     "text": [
      "Valor esperado: 0.9753599999999999\n"
     ]
    }
   ],
   "source": [
    "N_repeticiones = 100000\n",
    "\n",
    "recorrido_X = [0,2,3,4,5,6,7,8,9,10,11,12,13,14,15,16,17,18,19,20] #casos posibles de suma de puntos para algún jugador\n",
    "\n",
    "dedos_j1 = [1,2,3,4,5,6,7,8,9,10]\n",
    "dedos_j2= [1,2,3,4,5,6,7,8,9,10]\n",
    "\n",
    "contadores = dict()\n",
    "for resultado_X in list(recorrido_X):\n",
    "  contadores[int(resultado_X)] = 0\n",
    "\n",
    "for lanzamiento in range(N_repeticiones):\n",
    "  eleccion_j1 = np.random.choice(dedos_j1, size=1)[0]\n",
    "  eleccion_j2 = np.random.choice(dedos_j2, size=1)[0]  \n",
    "\n",
    "  resultado_j_1 = np.random.choice(dedos_j1, size=1)[0]\n",
    "  resultado_j_2 = np.random.choice(dedos_j2, size=1)[0]\n",
    "\n",
    "  \n",
    "  #Preguntamos si J1 acertó y J2 no hizo, para ver si suma puntos o no\n",
    "  if (resultado_j_1 != eleccion_j2) and (eleccion_j1 == resultado_j_2):\n",
    "    resultado_X = resultado_j_1 + resultado_j_2 #si entra, el resultado es la suma de los dedos escogidos por cada jugador\n",
    "  else:\n",
    "    resultado_X = 0 #sino no suma puntos\n",
    "  \n",
    "  contadores[resultado_X]+=1\n",
    "\n",
    "    \n",
    "fdp_X = [contadores[resultado_X]/float(N_repeticiones) for resultado_X in list(recorrido_X)]\n",
    "print(fdp_X)\n",
    "\n",
    "fig, ax = plt.subplots(figsize=(12,12))\n",
    "plt.bar(recorrido_X,fdp_X,color = \"b\",width = 0.50)\n",
    "ax.set_xlabel(\"Recorrido X\")\n",
    "ax.set_ylabel(\"Probabilidades\")\n",
    "plt.title(\"Función de Probabilidad Experimental de X\")\n",
    "plt.show()\n",
    "\n",
    "valor_esperado = 0.0\n",
    "for valor, probabilidad in zip(recorrido_X, fdp_X):\n",
    "  valor_esperado += valor*probabilidad\n",
    "\n",
    "print(\"Valor esperado: \"+ str(valor_esperado))"
   ]
  },
  {
   "cell_type": "markdown",
   "metadata": {},
   "source": [
    "Podemos comprobar lo anterior si formamos la función de probabilidad de la variable aleatoria X mediante eventos probabilísticos, la cual da por resultado:\n",
    "\n",
    "<H3> Para 2 dedos:</H3>\n",
    "\n",
    "\n",
    "\\begin{align*}\n",
    "f(x) &= \n",
    "\\left\\{\n",
    "\\begin{array}{cc}\n",
    "\\displaystyle{0,75} &  \\mbox{si } x = 0\\\\\\\n",
    "\\displaystyle{0,0625} &  \\mbox{si } x = 2\\\\\\\n",
    "\\displaystyle{0,125} &  \\mbox{si } x = 3\\\\\\\n",
    "\\displaystyle{0,0625} &  \\mbox{si } x = 4\\\\\\\n",
    "0  &   \\mbox{etoc}  \n",
    "\\end{array}\n",
    "\\right.\n",
    " \\ .\n",
    "\\end{align*}\n",
    "\n"
   ]
  },
  {
   "cell_type": "code",
   "execution_count": 11,
   "metadata": {
    "scrolled": true
   },
   "outputs": [
    {
     "name": "stdout",
     "output_type": "stream",
     "text": [
      "VALOR ESPERADO U = 0.750000\n"
     ]
    }
   ],
   "source": [
    "recorrido_U = [0,2,3,4]\n",
    "fdp_U = [0.75, 0.0625, 0.125, 0.0625]\n",
    "\n",
    "valor_esperado = 0.0\n",
    "for valor, probabilidad in zip(recorrido_U, fdp_U):\n",
    "  valor_esperado += valor*probabilidad\n",
    "print(\"VALOR ESPERADO U = %f\"%valor_esperado)"
   ]
  },
  {
   "cell_type": "markdown",
   "metadata": {},
   "source": [
    "Comprobándose así, que el procedimiento para calcular el valor esperado para el caso de 2 dedos está correcto.\n",
    "\n",
    "__[Link de video explicativo](https://drive.google.com/file/d/1W5x1n3xnE_9EoZZDM-6IdPI2b3eimfLK/view?usp=sharing)__"
   ]
  }
 ],
 "metadata": {
  "kernelspec": {
   "display_name": "Python 3.7.3 64-bit",
   "language": "python",
   "name": "python37364bit7c3d713fa23d4f94a60d96d7ef090228"
  },
  "language_info": {
   "codemirror_mode": {
    "name": "ipython",
    "version": 3
   },
   "file_extension": ".py",
   "mimetype": "text/x-python",
   "name": "python",
   "nbconvert_exporter": "python",
   "pygments_lexer": "ipython3",
   "version": "3.7.3"
  }
 },
 "nbformat": 4,
 "nbformat_minor": 4
}
